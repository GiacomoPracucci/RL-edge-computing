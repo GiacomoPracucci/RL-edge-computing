{
 "cells": [
  {
   "cell_type": "code",
   "execution_count": 2,
   "metadata": {},
   "outputs": [],
   "source": [
    "import pandas as pd\n",
    "import matplotlib.pyplot as plt"
   ]
  },
  {
   "cell_type": "markdown",
   "metadata": {},
   "source": [
    "# NON-TUNED"
   ]
  },
  {
   "cell_type": "markdown",
   "metadata": {},
   "source": [
    "## SCENARIO 1"
   ]
  },
  {
   "cell_type": "code",
   "execution_count": 7,
   "metadata": {},
   "outputs": [],
   "source": [
    "s1s1 = pd.read_csv('C:/Users/giaco/Desktop/Esperimenti/NON-TUNED/SAC/Scenario 1/S1vsS1.csv')\n",
    "s1s1['Ricompensa Totale'] = s1s1['Ricompensa Totale'].astype(int)\n",
    "s1s1 = s1s1[s1s1['Ricompensa Totale'] < 30000]\n",
    "s1s1['Percentuale di Richieste Rifiutate'] = s1s1['Percentuale di Richieste Rifiutate'].apply(lambda x: round(x, 2))\n",
    "s1s2 = pd.read_csv('C:/Users/giaco/Desktop/Esperimenti/NON-TUNED/SAC/Scenario 1/S1vsS2.csv')\n",
    "s1s2['Ricompensa Totale'] = s1s2['Ricompensa Totale'].astype(int)\n",
    "s1s2 = s1s2[s1s2['Ricompensa Totale'] < 30000]\n",
    "s1s2 = s1s2[s1s2['Ricompensa Totale'] > -30000]\n",
    "s1s2['Percentuale di Richieste Rifiutate'] = s1s2['Percentuale di Richieste Rifiutate'].apply(lambda x: round(x, 2))\n",
    "s1s3 = pd.read_csv('C:/Users/giaco/Desktop/Esperimenti/NON-TUNED/SAC/Scenario 1/S1vsS3.csv')\n",
    "s1s3['Ricompensa Totale'] = s1s3['Ricompensa Totale'].astype(int)\n",
    "s1s3['Percentuale di Richieste Rifiutate'] = s1s3['Percentuale di Richieste Rifiutate'].apply(lambda x: round(x, 2))\n",
    "s1s3 = s1s3[s1s3['Ricompensa Totale'] < 30000]\n",
    "s1s3 = s1s3[s1s3['Ricompensa Totale'] > -30000]"
   ]
  },
  {
   "cell_type": "markdown",
   "metadata": {},
   "source": [
    "S1 vs S1"
   ]
  },
  {
   "cell_type": "code",
   "execution_count": 4,
   "metadata": {},
   "outputs": [
    {
     "name": "stdout",
     "output_type": "stream",
     "text": [
      "Ricompensa media per episodio: 450.7005076142132\n",
      "Media delle richieste rifiutate per episodio: 2973.3248730964465\n",
      "Media del n di steps in congestione per episodio: 9.868020304568528\n",
      "Media della % di requests rifiutate per episodio: 29.883807106598987\n"
     ]
    }
   ],
   "source": [
    "print(f\"Ricompensa media per episodio: {s1s1['Ricompensa Totale'].mean()}\")\n",
    "print(f\"Media delle richieste rifiutate per episodio: {s1s1['Richieste Rifiutate'].mean()}\")\n",
    "print(f\"Media del n di steps in congestione per episodio: {s1s1['Steps in Congestione'].mean()}\")\n",
    "print(f\"Media della % di requests rifiutate per episodio: {s1s1['Percentuale di Richieste Rifiutate'].mean()}\")"
   ]
  },
  {
   "cell_type": "markdown",
   "metadata": {},
   "source": [
    "S2 vs S2"
   ]
  },
  {
   "cell_type": "code",
   "execution_count": 5,
   "metadata": {},
   "outputs": [
    {
     "name": "stdout",
     "output_type": "stream",
     "text": [
      "Ricompensa media per episodio: -12139.106598984772\n",
      "Media delle richieste rifiutate per episodio: 3560.233502538071\n",
      "Media del n di steps in congestione per episodio: 20.467005076142133\n",
      "Media della % di requests rifiutate per episodio: 35.79918781725888\n"
     ]
    }
   ],
   "source": [
    "print(f\"Ricompensa media per episodio: {s1s2['Ricompensa Totale'].mean()}\")\n",
    "print(f\"Media delle richieste rifiutate per episodio: {s1s2['Richieste Rifiutate'].mean()}\")\n",
    "print(f\"Media del n di steps in congestione per episodio: {s1s2['Steps in Congestione'].mean()}\")\n",
    "print(f\"Media della % di requests rifiutate per episodio: {s1s2['Percentuale di Richieste Rifiutate'].mean()}\")"
   ]
  },
  {
   "cell_type": "markdown",
   "metadata": {},
   "source": [
    "S1 vs S3"
   ]
  },
  {
   "cell_type": "code",
   "execution_count": 8,
   "metadata": {},
   "outputs": [
    {
     "name": "stdout",
     "output_type": "stream",
     "text": [
      "Ricompensa media per episodio: -5736.568527918782\n",
      "Media delle richieste rifiutate per episodio: 3139.8629441624366\n",
      "Media del n di steps in congestione per episodio: 10.01015228426396\n",
      "Media della % di requests rifiutate per episodio: 31.55269035532995\n"
     ]
    }
   ],
   "source": [
    "print(f\"Ricompensa media per episodio: {s1s3['Ricompensa Totale'].mean()}\")\n",
    "print(f\"Media delle richieste rifiutate per episodio: {s1s3['Richieste Rifiutate'].mean()}\")\n",
    "print(f\"Media del n di steps in congestione per episodio: {s1s3['Steps in Congestione'].mean()}\")\n",
    "print(f\"Media della % di requests rifiutate per episodio: {s1s3['Percentuale di Richieste Rifiutate'].mean()}\")"
   ]
  },
  {
   "cell_type": "markdown",
   "metadata": {},
   "source": [
    "## SCENARIO 2"
   ]
  },
  {
   "cell_type": "code",
   "execution_count": null,
   "metadata": {},
   "outputs": [],
   "source": [
    "s2s1 = pd.read_csv('C:/Users/giaco/Desktop/Esperimenti/NON_TUNED/SAC/Scenario 2/S2vsS1.csv')\n",
    "s2s1['Ricompensa Totale'] = s2s1['Ricompensa Totale'].astype(int)\n",
    "s2s1 = s2s1[s2s1['Ricompensa Totale'] < 15000]\n",
    "s2s1['Percentuale di Richieste Rifiutate'] = s2s1['Percentuale di Richieste Rifiutate'].apply(lambda x: round(x, 2))\n",
    "s2s2 = pd.read_csv('C:/Users/giaco/Desktop/Esperimenti/NON_TUNED/SAC/Scenario 2/S2vsS2.csv')\n",
    "s2s2['Ricompensa Totale'] = s2s2['Ricompensa Totale'].astype(int)\n",
    "s2s2 = s2s2[s2s2['Ricompensa Totale'] < 15000]\n",
    "s2s2['Percentuale di Richieste Rifiutate'] = s2s2['Percentuale di Richieste Rifiutate'].apply(lambda x: round(x, 2))\n",
    "s2s3 = pd.read_csv('C:/Users/giaco/Desktop/Esperimenti/NON_TUNED/SAC/Scenario 2/S2vsS3.csv')\n",
    "s2s3['Ricompensa Totale'] = s2s3['Ricompensa Totale'].astype(int)\n",
    "s2s3 = s2s3[s2s3['Ricompensa Totale'] < 15000]\n",
    "s2s3['Percentuale di Richieste Rifiutate'] = s2s3['Percentuale di Richieste Rifiutate'].apply(lambda x: round(x, 2))"
   ]
  },
  {
   "cell_type": "markdown",
   "metadata": {},
   "source": [
    "# TUNED"
   ]
  },
  {
   "cell_type": "markdown",
   "metadata": {},
   "source": [
    "## Scenario 1"
   ]
  },
  {
   "cell_type": "code",
   "execution_count": 2,
   "metadata": {},
   "outputs": [],
   "source": [
    "s1s1 = pd.read_csv('C:/Users/giaco/Desktop/Esperimenti/SAC/Scenario 1/S1vsS1.csv')\n",
    "s1s1['Ricompensa Totale'] = s1s1['Ricompensa Totale'].astype(int)\n",
    "s1s1 = s1s1[s1s1['Ricompensa Totale'] < 30000]\n",
    "s1s1['Percentuale di Richieste Rifiutate'] = s1s1['Percentuale di Richieste Rifiutate'].apply(lambda x: round(x, 2))\n",
    "s1s2 = pd.read_csv('C:/Users/giaco/Desktop/Esperimenti/SAC/Scenario 1/S1vsS2.csv')\n",
    "s1s2['Ricompensa Totale'] = s1s2['Ricompensa Totale'].astype(int)\n",
    "s1s2 = s1s2[s1s2['Ricompensa Totale'] < 30000]\n",
    "s1s2 = s1s2[s1s2['Ricompensa Totale'] > -30000]\n",
    "s1s2['Percentuale di Richieste Rifiutate'] = s1s2['Percentuale di Richieste Rifiutate'].apply(lambda x: round(x, 2))\n",
    "s1s3 = pd.read_csv('C:/Users/giaco/Desktop/Esperimenti/SAC/Scenario 1/S1vsS3.csv')\n",
    "s1s3['Ricompensa Totale'] = s1s3['Ricompensa Totale'].astype(int)\n",
    "s1s3['Percentuale di Richieste Rifiutate'] = s1s3['Percentuale di Richieste Rifiutate'].apply(lambda x: round(x, 2))\n",
    "s1s3 = s1s3[s1s3['Ricompensa Totale'] < 30000]"
   ]
  },
  {
   "cell_type": "markdown",
   "metadata": {},
   "source": [
    "S1 vs S1"
   ]
  },
  {
   "cell_type": "code",
   "execution_count": 3,
   "metadata": {},
   "outputs": [
    {
     "name": "stdout",
     "output_type": "stream",
     "text": [
      "Ricompensa media per episodio: 8412.319587628866\n",
      "Media delle richieste rifiutate per episodio: 1121.340206185567\n",
      "Media del n di steps in congestione per episodio: 1.7525773195876289\n",
      "Media della % di requests rifiutate per episodio: 11.247422680412368\n"
     ]
    }
   ],
   "source": [
    "print(f\"Ricompensa media per episodio: {s1s1['Ricompensa Totale'].mean()}\")\n",
    "print(f\"Media delle richieste rifiutate per episodio: {s1s1['Richieste Rifiutate'].mean()}\")\n",
    "print(f\"Media del n di steps in congestione per episodio: {s1s1['Steps in Congestione'].mean()}\")\n",
    "print(f\"Media della % di requests rifiutate per episodio: {s1s1['Percentuale di Richieste Rifiutate'].mean()}\")\n"
   ]
  },
  {
   "cell_type": "markdown",
   "metadata": {},
   "source": [
    "S1 vs S2"
   ]
  },
  {
   "cell_type": "code",
   "execution_count": 4,
   "metadata": {},
   "outputs": [
    {
     "name": "stdout",
     "output_type": "stream",
     "text": [
      "Ricompensa media per episodio: 4666.7959183673465\n",
      "Media delle richieste rifiutate per episodio: 1473.2448979591836\n",
      "Media del n di steps in congestione per episodio: 10.948979591836734\n",
      "Media della % di requests rifiutate per episodio: 14.816122448979595\n"
     ]
    }
   ],
   "source": [
    "print(f\"Ricompensa media per episodio: {s1s2['Ricompensa Totale'].mean()}\")\n",
    "print(f\"Media delle richieste rifiutate per episodio: {s1s2['Richieste Rifiutate'].mean()}\")\n",
    "print(f\"Media del n di steps in congestione per episodio: {s1s2['Steps in Congestione'].mean()}\")\n",
    "print(f\"Media della % di requests rifiutate per episodio: {s1s2['Percentuale di Richieste Rifiutate'].mean()}\")"
   ]
  },
  {
   "cell_type": "markdown",
   "metadata": {},
   "source": [
    "S1 vs S3"
   ]
  },
  {
   "cell_type": "code",
   "execution_count": 5,
   "metadata": {},
   "outputs": [
    {
     "name": "stdout",
     "output_type": "stream",
     "text": [
      "Ricompensa media per episodio: 10791.80612244898\n",
      "Media delle richieste rifiutate per episodio: 872.2857142857143\n",
      "Media del n di steps in congestione per episodio: 1.1020408163265305\n",
      "Media della % di requests rifiutate per episodio: 8.765714285714285\n"
     ]
    }
   ],
   "source": [
    "print(f\"Ricompensa media per episodio: {s1s3['Ricompensa Totale'].mean()}\")\n",
    "print(f\"Media delle richieste rifiutate per episodio: {s1s3['Richieste Rifiutate'].mean()}\")\n",
    "print(f\"Media del n di steps in congestione per episodio: {s1s3['Steps in Congestione'].mean()}\")\n",
    "print(f\"Media della % di requests rifiutate per episodio: {s1s3['Percentuale di Richieste Rifiutate'].mean()}\")"
   ]
  },
  {
   "cell_type": "markdown",
   "metadata": {},
   "source": [
    "## Scenario 2"
   ]
  },
  {
   "cell_type": "code",
   "execution_count": 22,
   "metadata": {},
   "outputs": [],
   "source": [
    "s2s1 = pd.read_csv('C:/Users/giaco/Desktop/Esperimenti/SAC/Scenario 2/S2vsS1.csv')\n",
    "s2s1['Ricompensa Totale'] = s2s1['Ricompensa Totale'].astype(int)\n",
    "s2s1 = s2s1[s2s1['Ricompensa Totale'] < 15000]\n",
    "s2s1['Percentuale di Richieste Rifiutate'] = s2s1['Percentuale di Richieste Rifiutate'].apply(lambda x: round(x, 2))\n",
    "s2s2 = pd.read_csv('C:/Users/giaco/Desktop/Esperimenti/SAC/Scenario 2/S2vsS2.csv')\n",
    "s2s2['Ricompensa Totale'] = s2s2['Ricompensa Totale'].astype(int)\n",
    "s2s2 = s2s2[s2s2['Ricompensa Totale'] < 15000]\n",
    "s2s2['Percentuale di Richieste Rifiutate'] = s2s2['Percentuale di Richieste Rifiutate'].apply(lambda x: round(x, 2))\n",
    "s2s3 = pd.read_csv('C:/Users/giaco/Desktop/Esperimenti/SAC/Scenario 2/S2vsS3.csv')\n",
    "s2s3['Ricompensa Totale'] = s2s3['Ricompensa Totale'].astype(int)\n",
    "s2s3 = s2s3[s2s3['Ricompensa Totale'] < 15000]\n",
    "s2s3['Percentuale di Richieste Rifiutate'] = s2s3['Percentuale di Richieste Rifiutate'].apply(lambda x: round(x, 2))"
   ]
  },
  {
   "cell_type": "markdown",
   "metadata": {},
   "source": [
    "S2 vs S1"
   ]
  },
  {
   "cell_type": "code",
   "execution_count": 23,
   "metadata": {},
   "outputs": [
    {
     "name": "stdout",
     "output_type": "stream",
     "text": [
      "Ricompensa media per episodio: 6565.171717171717\n",
      "Media delle richieste rifiutate per episodio: 1567.919191919192\n",
      "Media del n di steps in congestione per episodio: 5.333333333333333\n",
      "Media della % di requests rifiutate per episodio: 15.782626262626263\n"
     ]
    }
   ],
   "source": [
    "print(f\"Ricompensa media per episodio: {s2s1['Ricompensa Totale'].mean()}\")\n",
    "print(f\"Media delle richieste rifiutate per episodio: {s2s1['Richieste Rifiutate'].mean()}\")\n",
    "print(f\"Media del n di steps in congestione per episodio: {s2s1['Steps in Congestione'].mean()}\")\n",
    "print(f\"Media della % di requests rifiutate per episodio: {s2s1['Percentuale di Richieste Rifiutate'].mean()}\")"
   ]
  },
  {
   "cell_type": "markdown",
   "metadata": {},
   "source": [
    "S2 vs S2"
   ]
  },
  {
   "cell_type": "code",
   "execution_count": 24,
   "metadata": {},
   "outputs": [
    {
     "name": "stdout",
     "output_type": "stream",
     "text": [
      "Ricompensa media per episodio: 1739.8453608247423\n",
      "Media delle richieste rifiutate per episodio: 2282.319587628866\n",
      "Media del n di steps in congestione per episodio: 17.927835051546392\n",
      "Media della % di requests rifiutate per episodio: 22.9279381443299\n"
     ]
    }
   ],
   "source": [
    "print(f\"Ricompensa media per episodio: {s2s2['Ricompensa Totale'].mean()}\")\n",
    "print(f\"Media delle richieste rifiutate per episodio: {s2s2['Richieste Rifiutate'].mean()}\")\n",
    "print(f\"Media del n di steps in congestione per episodio: {s2s2['Steps in Congestione'].mean()}\")\n",
    "print(f\"Media della % di requests rifiutate per episodio: {s2s2['Percentuale di Richieste Rifiutate'].mean()}\")"
   ]
  },
  {
   "cell_type": "markdown",
   "metadata": {},
   "source": [
    "S2 vs S3"
   ]
  },
  {
   "cell_type": "code",
   "execution_count": 25,
   "metadata": {},
   "outputs": [
    {
     "name": "stdout",
     "output_type": "stream",
     "text": [
      "Ricompensa media per episodio: 4805.065217391304\n",
      "Media delle richieste rifiutate per episodio: 2207.1521739130435\n",
      "Media del n di steps in congestione per episodio: 11.021739130434783\n",
      "Media della % di requests rifiutate per episodio: 22.179347826086957\n"
     ]
    }
   ],
   "source": [
    "print(f\"Ricompensa media per episodio: {s2s3['Ricompensa Totale'].mean()}\")\n",
    "print(f\"Media delle richieste rifiutate per episodio: {s2s3['Richieste Rifiutate'].mean()}\")\n",
    "print(f\"Media del n di steps in congestione per episodio: {s2s3['Steps in Congestione'].mean()}\")\n",
    "print(f\"Media della % di requests rifiutate per episodio: {s2s3['Percentuale di Richieste Rifiutate'].mean()}\")"
   ]
  },
  {
   "cell_type": "markdown",
   "metadata": {},
   "source": [
    "## Scenario 3"
   ]
  },
  {
   "cell_type": "code",
   "execution_count": 18,
   "metadata": {},
   "outputs": [],
   "source": [
    "s3s1 = pd.read_csv('C:/Users/giaco/Desktop/Esperimenti/SAC/Scenario 3/S3vsS1.csv')\n",
    "s3s1['Ricompensa Totale'] = s3s1['Ricompensa Totale'].astype(int)\n",
    "s3s1 = s3s1[s3s1['Ricompensa Totale'] < 15000]\n",
    "s3s1 = s3s1[s3s1['Ricompensa Totale'] > -15000]\n",
    "s3s1['Percentuale di Richieste Rifiutate'] = s3s1['Percentuale di Richieste Rifiutate'].apply(lambda x: round(x, 2))\n",
    "s3s2 = pd.read_csv('C:/Users/giaco/Desktop/Esperimenti/SAC/Scenario 3/S3vsS2.csv')\n",
    "s3s2['Ricompensa Totale'] = s3s2['Ricompensa Totale'].astype(int)\n",
    "s3s2 = s3s2[s3s2['Ricompensa Totale'] < 15000]\n",
    "s3s2 = s3s2[s3s2['Ricompensa Totale'] > -15000]\n",
    "s3s2['Percentuale di Richieste Rifiutate'] = s3s2['Percentuale di Richieste Rifiutate'].apply(lambda x: round(x, 2))\n",
    "s3s3 = pd.read_csv('C:/Users/giaco/Desktop/Esperimenti/SAC/Scenario 3/S3vsS3.csv')\n",
    "s3s3['Ricompensa Totale'] = s3s3['Ricompensa Totale'].astype(int)\n",
    "s3s3 = s3s3[s3s3['Ricompensa Totale'] < 15000]\n",
    "s3s3['Percentuale di Richieste Rifiutate'] = s3s3['Percentuale di Richieste Rifiutate'].apply(lambda x: round(x, 2))"
   ]
  },
  {
   "cell_type": "markdown",
   "metadata": {},
   "source": [
    "S3 vs S1"
   ]
  },
  {
   "cell_type": "code",
   "execution_count": 19,
   "metadata": {},
   "outputs": [
    {
     "name": "stdout",
     "output_type": "stream",
     "text": [
      "Ricompensa media per episodio: 7357.591836734694\n",
      "Media delle richieste rifiutate per episodio: 920.204081632653\n",
      "Media del n di steps in congestione per episodio: 6.122448979591836\n",
      "Media della % di requests rifiutate per episodio: 9.227551020408162\n"
     ]
    }
   ],
   "source": [
    "print(f\"Ricompensa media per episodio: {s3s1['Ricompensa Totale'].mean()}\")\n",
    "print(f\"Media delle richieste rifiutate per episodio: {s3s1['Richieste Rifiutate'].mean()}\")\n",
    "print(f\"Media del n di steps in congestione per episodio: {s3s1['Steps in Congestione'].mean()}\")\n",
    "print(f\"Media della % di requests rifiutate per episodio: {s3s1['Percentuale di Richieste Rifiutate'].mean()}\")"
   ]
  },
  {
   "cell_type": "markdown",
   "metadata": {},
   "source": [
    "S3 vs S2"
   ]
  },
  {
   "cell_type": "code",
   "execution_count": 20,
   "metadata": {},
   "outputs": [
    {
     "name": "stdout",
     "output_type": "stream",
     "text": [
      "Ricompensa media per episodio: -4251.826530612245\n",
      "Media delle richieste rifiutate per episodio: 1558.3061224489795\n",
      "Media del n di steps in congestione per episodio: 19.70408163265306\n",
      "Media della % di requests rifiutate per episodio: 15.665510204081633\n"
     ]
    }
   ],
   "source": [
    "print(f\"Ricompensa media per episodio: {s3s2['Ricompensa Totale'].mean()}\")\n",
    "print(f\"Media delle richieste rifiutate per episodio: {s3s2['Richieste Rifiutate'].mean()}\")\n",
    "print(f\"Media del n di steps in congestione per episodio: {s3s2['Steps in Congestione'].mean()}\")\n",
    "print(f\"Media della % di requests rifiutate per episodio: {s3s2['Percentuale di Richieste Rifiutate'].mean()}\")"
   ]
  },
  {
   "cell_type": "markdown",
   "metadata": {},
   "source": [
    "S3 vs S3"
   ]
  },
  {
   "cell_type": "code",
   "execution_count": 21,
   "metadata": {},
   "outputs": [
    {
     "name": "stdout",
     "output_type": "stream",
     "text": [
      "Ricompensa media per episodio: 10884.938775510203\n",
      "Media delle richieste rifiutate per episodio: 886.3163265306123\n",
      "Media del n di steps in congestione per episodio: 1.346938775510204\n",
      "Media della % di requests rifiutate per episodio: 8.906530612244898\n"
     ]
    }
   ],
   "source": [
    "print(f\"Ricompensa media per episodio: {s3s3['Ricompensa Totale'].mean()}\")\n",
    "print(f\"Media delle richieste rifiutate per episodio: {s3s3['Richieste Rifiutate'].mean()}\")\n",
    "print(f\"Media del n di steps in congestione per episodio: {s3s3['Steps in Congestione'].mean()}\")\n",
    "print(f\"Media della % di requests rifiutate per episodio: {s3s3['Percentuale di Richieste Rifiutate'].mean()}\")"
   ]
  }
 ],
 "metadata": {
  "kernelspec": {
   "display_name": "Python 3",
   "language": "python",
   "name": "python3"
  },
  "language_info": {
   "codemirror_mode": {
    "name": "ipython",
    "version": 3
   },
   "file_extension": ".py",
   "mimetype": "text/x-python",
   "name": "python",
   "nbconvert_exporter": "python",
   "pygments_lexer": "ipython3",
   "version": "3.8.10"
  },
  "orig_nbformat": 4
 },
 "nbformat": 4,
 "nbformat_minor": 2
}
