{
 "cells": [
  {
   "cell_type": "code",
   "execution_count": 1,
   "metadata": {},
   "outputs": [],
   "source": [
    "import pandas as pd\n",
    "import matplotlib.pyplot as plt"
   ]
  },
  {
   "cell_type": "markdown",
   "metadata": {},
   "source": [
    "## Scenario 1"
   ]
  },
  {
   "cell_type": "code",
   "execution_count": 10,
   "metadata": {},
   "outputs": [],
   "source": [
    "s1s1 = pd.read_csv('C:/Users/giaco/Desktop/Esperimenti/NEAT/Scenario 1/S1vsS1.csv')\n",
    "s1s1['Ricompensa Totale'] = s1s1['Ricompensa Totale'].astype(int)\n",
    "s1s1 = s1s1[s1s1['Ricompensa Totale'] < 30000]\n",
    "s1s1 = s1s1[s1s1['Ricompensa Totale'] > -80000]\n",
    "s1s1['Percentuale di Richieste Rifiutate'] = s1s1['Percentuale di Richieste Rifiutate'].apply(lambda x: round(x, 2))\n",
    "s1s2 = pd.read_csv('C:/Users/giaco/Desktop/Esperimenti/NEAT/Scenario 1/S1vsS2.csv')\n",
    "s1s2['Ricompensa Totale'] = s1s2['Ricompensa Totale'].astype(int)\n",
    "s1s2 = s1s2[s1s2['Ricompensa Totale'] < 30000]\n",
    "s1s2 = s1s2[s1s2['Ricompensa Totale'] > -80000]\n",
    "s1s2['Percentuale di Richieste Rifiutate'] = s1s2['Percentuale di Richieste Rifiutate'].apply(lambda x: round(x, 2))\n",
    "s1s3 = pd.read_csv('C:/Users/giaco/Desktop/Esperimenti/NEAT/Scenario 1/S1vsS3.csv')\n",
    "s1s3['Ricompensa Totale'] = s1s3['Ricompensa Totale'].astype(int)\n",
    "s1s3['Percentuale di Richieste Rifiutate'] = s1s3['Percentuale di Richieste Rifiutate'].apply(lambda x: round(x, 2))\n",
    "s1s3 = s1s3[s1s3['Ricompensa Totale'] < 30000]\n",
    "s1s3 = s1s3[s1s3['Ricompensa Totale'] > -80000]"
   ]
  },
  {
   "cell_type": "markdown",
   "metadata": {},
   "source": [
    "S1 vs S1"
   ]
  },
  {
   "cell_type": "code",
   "execution_count": 15,
   "metadata": {},
   "outputs": [
    {
     "name": "stdout",
     "output_type": "stream",
     "text": [
      "Ricompensa media per episodio: 9819.48401826484\n",
      "Media delle richieste rifiutate per episodio: 1931.3196347031962\n",
      "Media del n di steps in congestione per episodio: 0.9497716894977168\n",
      "Media della % di requests rifiutate per episodio: 19.405753424657536\n"
     ]
    }
   ],
   "source": [
    "print(f\"Ricompensa media per episodio: {s1s1['Ricompensa Totale'].mean()}\")\n",
    "print(f\"Media delle richieste rifiutate per episodio: {s1s1['Richieste Rifiutate'].mean()}\")\n",
    "print(f\"Media del n di steps in congestione per episodio: {s1s1['Steps in Congestione'].mean()}\")\n",
    "print(f\"Media della % di requests rifiutate per episodio: {s1s1['Percentuale di Richieste Rifiutate'].mean()}\")\n"
   ]
  },
  {
   "cell_type": "markdown",
   "metadata": {},
   "source": [
    "S1 vs S2"
   ]
  },
  {
   "cell_type": "code",
   "execution_count": 14,
   "metadata": {},
   "outputs": [
    {
     "name": "stdout",
     "output_type": "stream",
     "text": [
      "Ricompensa media per episodio: -33219.77927927928\n",
      "Media delle richieste rifiutate per episodio: 2602.3603603603606\n",
      "Media del n di steps in congestione per episodio: 38.752252252252255\n",
      "Media della % di requests rifiutate per episodio: 26.163558558558556\n"
     ]
    }
   ],
   "source": [
    "print(f\"Ricompensa media per episodio: {s1s2['Ricompensa Totale'].mean()}\")\n",
    "print(f\"Media delle richieste rifiutate per episodio: {s1s2['Richieste Rifiutate'].mean()}\")\n",
    "print(f\"Media del n di steps in congestione per episodio: {s1s2['Steps in Congestione'].mean()}\")\n",
    "print(f\"Media della % di requests rifiutate per episodio: {s1s2['Percentuale di Richieste Rifiutate'].mean()}\")"
   ]
  },
  {
   "cell_type": "markdown",
   "metadata": {},
   "source": [
    "S1 vs S3"
   ]
  },
  {
   "cell_type": "code",
   "execution_count": 13,
   "metadata": {},
   "outputs": [
    {
     "name": "stdout",
     "output_type": "stream",
     "text": [
      "Ricompensa media per episodio: -14868.391705069125\n",
      "Media delle richieste rifiutate per episodio: 2593.4470046082947\n",
      "Media del n di steps in congestione per episodio: 17.898617511520737\n",
      "Media della % di requests rifiutate per episodio: 26.0610599078341\n"
     ]
    }
   ],
   "source": [
    "print(f\"Ricompensa media per episodio: {s1s3['Ricompensa Totale'].mean()}\")\n",
    "print(f\"Media delle richieste rifiutate per episodio: {s1s3['Richieste Rifiutate'].mean()}\")\n",
    "print(f\"Media del n di steps in congestione per episodio: {s1s3['Steps in Congestione'].mean()}\")\n",
    "print(f\"Media della % di requests rifiutate per episodio: {s1s3['Percentuale di Richieste Rifiutate'].mean()}\")"
   ]
  },
  {
   "cell_type": "markdown",
   "metadata": {},
   "source": [
    "## Scenario 2"
   ]
  },
  {
   "cell_type": "code",
   "execution_count": 6,
   "metadata": {},
   "outputs": [],
   "source": [
    "s2s1 = pd.read_csv('C:/Users/giaco/Desktop/Esperimenti/NEAT/Scenario 2/S2vsS1.csv')\n",
    "s2s1['Ricompensa Totale'] = s2s1['Ricompensa Totale'].astype(int)\n",
    "s2s1 = s2s1[s2s1['Ricompensa Totale'] < 30000]\n",
    "s2s1 = s2s1[s2s1['Ricompensa Totale'] > -80000]\n",
    "s2s1['Percentuale di Richieste Rifiutate'] = s2s1['Percentuale di Richieste Rifiutate'].apply(lambda x: round(x, 2))\n",
    "s2s2 = pd.read_csv('C:/Users/giaco/Desktop/Esperimenti/NEAT/Scenario 2/S2vsS2.csv')\n",
    "s2s2['Ricompensa Totale'] = s2s2['Ricompensa Totale'].astype(int)\n",
    "s2s2 = s2s2[s2s2['Ricompensa Totale'] < 30000]\n",
    "s2s2 = s2s2[s2s2['Ricompensa Totale'] > -80000]\n",
    "s2s2['Percentuale di Richieste Rifiutate'] = s2s2['Percentuale di Richieste Rifiutate'].apply(lambda x: round(x, 2))\n",
    "s2s3 = pd.read_csv('C:/Users/giaco/Desktop/Esperimenti/NEAT/Scenario 2/S2vsS3.csv')\n",
    "s2s3['Ricompensa Totale'] = s2s3['Ricompensa Totale'].astype(int)\n",
    "s2s3 = s2s3[s2s3['Ricompensa Totale'] < 30000]\n",
    "s2s3 = s2s3[s2s3['Ricompensa Totale'] > -80000]\n",
    "s2s3['Percentuale di Richieste Rifiutate'] = s2s3['Percentuale di Richieste Rifiutate'].apply(lambda x: round(x, 2))"
   ]
  },
  {
   "cell_type": "markdown",
   "metadata": {},
   "source": [
    "S2 vs S1"
   ]
  },
  {
   "cell_type": "code",
   "execution_count": 7,
   "metadata": {},
   "outputs": [
    {
     "name": "stdout",
     "output_type": "stream",
     "text": [
      "Ricompensa media per episodio: -490.0214592274678\n",
      "Media delle richieste rifiutate per episodio: 3441.9356223175964\n",
      "Media del n di steps in congestione per episodio: 23.386266094420602\n",
      "Media della % di requests rifiutate per episodio: 34.62888412017167\n"
     ]
    }
   ],
   "source": [
    "print(f\"Ricompensa media per episodio: {s2s1['Ricompensa Totale'].mean()}\")\n",
    "print(f\"Media delle richieste rifiutate per episodio: {s2s1['Richieste Rifiutate'].mean()}\")\n",
    "print(f\"Media del n di steps in congestione per episodio: {s2s1['Steps in Congestione'].mean()}\")\n",
    "print(f\"Media della % di requests rifiutate per episodio: {s2s1['Percentuale di Richieste Rifiutate'].mean()}\")"
   ]
  },
  {
   "cell_type": "markdown",
   "metadata": {},
   "source": [
    "S2 vs S2"
   ]
  },
  {
   "cell_type": "code",
   "execution_count": 8,
   "metadata": {},
   "outputs": [
    {
     "name": "stdout",
     "output_type": "stream",
     "text": [
      "Ricompensa media per episodio: -2481.4935064935066\n",
      "Media delle richieste rifiutate per episodio: 3662.787878787879\n",
      "Media del n di steps in congestione per episodio: 25.974025974025974\n",
      "Media della % di requests rifiutate per episodio: 36.80965367965369\n"
     ]
    }
   ],
   "source": [
    "print(f\"Ricompensa media per episodio: {s2s2['Ricompensa Totale'].mean()}\")\n",
    "print(f\"Media delle richieste rifiutate per episodio: {s2s2['Richieste Rifiutate'].mean()}\")\n",
    "print(f\"Media del n di steps in congestione per episodio: {s2s2['Steps in Congestione'].mean()}\")\n",
    "print(f\"Media della % di requests rifiutate per episodio: {s2s2['Percentuale di Richieste Rifiutate'].mean()}\")"
   ]
  },
  {
   "cell_type": "markdown",
   "metadata": {},
   "source": [
    "S2 vs S3"
   ]
  },
  {
   "cell_type": "code",
   "execution_count": 9,
   "metadata": {},
   "outputs": [
    {
     "name": "stdout",
     "output_type": "stream",
     "text": [
      "Ricompensa media per episodio: 2016.0128755364806\n",
      "Media delle richieste rifiutate per episodio: 3603.5150214592277\n",
      "Media del n di steps in congestione per episodio: 21.476394849785407\n",
      "Media della % di requests rifiutate per episodio: 36.21270386266095\n"
     ]
    }
   ],
   "source": [
    "print(f\"Ricompensa media per episodio: {s2s3['Ricompensa Totale'].mean()}\")\n",
    "print(f\"Media delle richieste rifiutate per episodio: {s2s3['Richieste Rifiutate'].mean()}\")\n",
    "print(f\"Media del n di steps in congestione per episodio: {s2s3['Steps in Congestione'].mean()}\")\n",
    "print(f\"Media della % di requests rifiutate per episodio: {s2s3['Percentuale di Richieste Rifiutate'].mean()}\")"
   ]
  },
  {
   "cell_type": "markdown",
   "metadata": {},
   "source": [
    "## Scenario 3"
   ]
  },
  {
   "cell_type": "code",
   "execution_count": 5,
   "metadata": {},
   "outputs": [],
   "source": [
    "s3s1 = pd.read_csv('C:/Users/giaco/Desktop/Esperimenti/NEAT/Scenario 3/S3vsS1.csv')\n",
    "s3s1['Ricompensa Totale'] = s3s1['Ricompensa Totale'].astype(int)\n",
    "s3s1 = s3s1[s3s1['Ricompensa Totale'] < 30000]\n",
    "s3s1 = s3s1[s3s1['Ricompensa Totale'] > -80000]\n",
    "s3s1['Percentuale di Richieste Rifiutate'] = s3s1['Percentuale di Richieste Rifiutate'].apply(lambda x: round(x, 2))\n",
    "s3s2 = pd.read_csv('C:/Users/giaco/Desktop/Esperimenti/NEAT/Scenario 3/S3vsS2.csv')\n",
    "#s3s2['Ricompensa Totale'] = s3s2['Ricompensa Totale'].astype(int)\n",
    "s3s2 = s3s2[s3s2['Ricompensa Totale'] < 30000]\n",
    "s3s2 = s3s2[s3s2['Ricompensa Totale'] > -80000]\n",
    "s3s2['Percentuale di Richieste Rifiutate'] = s3s2['Percentuale di Richieste Rifiutate'].apply(lambda x: round(x, 2))\n",
    "s3s3 = pd.read_csv('C:/Users/giaco/Desktop/Esperimenti/NEAT/Scenario 3/S3vsS3.csv')\n",
    "s3s3['Ricompensa Totale'] = s3s3['Ricompensa Totale'].astype(int)\n",
    "s3s3 = s3s3[s3s3['Ricompensa Totale'] < 30000]\n",
    "s3s3 = s3s3[s3s3['Ricompensa Totale'] > -80000]\n",
    "s3s3['Percentuale di Richieste Rifiutate'] = s3s3['Percentuale di Richieste Rifiutate'].apply(lambda x: round(x, 2))"
   ]
  },
  {
   "cell_type": "markdown",
   "metadata": {},
   "source": [
    "S3 vs S1"
   ]
  },
  {
   "cell_type": "code",
   "execution_count": 6,
   "metadata": {},
   "outputs": [
    {
     "name": "stdout",
     "output_type": "stream",
     "text": [
      "Ricompensa media per episodio: -43601.02024291498\n",
      "Media delle richieste rifiutate per episodio: 0.0\n",
      "Media del n di steps in congestione per episodio: 48.66801619433198\n",
      "Media della % di requests rifiutate per episodio: 0.0\n"
     ]
    }
   ],
   "source": [
    "print(f\"Ricompensa media per episodio: {s3s1['Ricompensa Totale'].mean()}\")\n",
    "print(f\"Media delle richieste rifiutate per episodio: {s3s1['Richieste Rifiutate'].mean()}\")\n",
    "print(f\"Media del n di steps in congestione per episodio: {s3s1['Steps in Congestione'].mean()}\")\n",
    "print(f\"Media della % di requests rifiutate per episodio: {s3s1['Percentuale di Richieste Rifiutate'].mean()}\")"
   ]
  },
  {
   "cell_type": "markdown",
   "metadata": {},
   "source": [
    "S3 vs S2"
   ]
  },
  {
   "cell_type": "code",
   "execution_count": 7,
   "metadata": {},
   "outputs": [
    {
     "name": "stdout",
     "output_type": "stream",
     "text": [
      "Ricompensa media per episodio: -37234.416805154644\n",
      "Media delle richieste rifiutate per episodio: 1.865979381443299\n",
      "Media del n di steps in congestione per episodio: 51.0\n",
      "Media della % di requests rifiutate per episodio: 0.01865979381443299\n"
     ]
    }
   ],
   "source": [
    "print(f\"Ricompensa media per episodio: {s3s2['Ricompensa Totale'].mean()}\")\n",
    "print(f\"Media delle richieste rifiutate per episodio: {s3s2['Richieste Rifiutate'].mean()}\")\n",
    "print(f\"Media del n di steps in congestione per episodio: {s3s2['Steps in Congestione'].mean()}\")\n",
    "print(f\"Media della % di requests rifiutate per episodio: {s3s2['Percentuale di Richieste Rifiutate'].mean()}\")"
   ]
  },
  {
   "cell_type": "markdown",
   "metadata": {},
   "source": [
    "S3 vs S3"
   ]
  },
  {
   "cell_type": "code",
   "execution_count": 8,
   "metadata": {},
   "outputs": [
    {
     "name": "stdout",
     "output_type": "stream",
     "text": [
      "Ricompensa media per episodio: 11345.504166666668\n",
      "Media delle richieste rifiutate per episodio: 3.754166666666667\n",
      "Media del n di steps in congestione per episodio: 1.2791666666666666\n",
      "Media della % di requests rifiutate per episodio: 0.037541666666666675\n"
     ]
    }
   ],
   "source": [
    "print(f\"Ricompensa media per episodio: {s3s3['Ricompensa Totale'].mean()}\")\n",
    "print(f\"Media delle richieste rifiutate per episodio: {s3s3['Richieste Rifiutate'].mean()}\")\n",
    "print(f\"Media del n di steps in congestione per episodio: {s3s3['Steps in Congestione'].mean()}\")\n",
    "print(f\"Media della % di requests rifiutate per episodio: {s3s3['Percentuale di Richieste Rifiutate'].mean()}\")"
   ]
  }
 ],
 "metadata": {
  "kernelspec": {
   "display_name": "Python 3",
   "language": "python",
   "name": "python3"
  },
  "language_info": {
   "codemirror_mode": {
    "name": "ipython",
    "version": 3
   },
   "file_extension": ".py",
   "mimetype": "text/x-python",
   "name": "python",
   "nbconvert_exporter": "python",
   "pygments_lexer": "ipython3",
   "version": "3.8.10"
  },
  "orig_nbformat": 4
 },
 "nbformat": 4,
 "nbformat_minor": 2
}
