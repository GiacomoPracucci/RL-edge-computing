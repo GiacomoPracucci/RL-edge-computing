{
 "cells": [
  {
   "cell_type": "code",
   "execution_count": 2,
   "metadata": {},
   "outputs": [],
   "source": [
    "import pandas as pd\n",
    "import matplotlib.pyplot as plt"
   ]
  },
  {
   "cell_type": "markdown",
   "metadata": {},
   "source": [
    "## Scenario 1"
   ]
  },
  {
   "cell_type": "code",
   "execution_count": 8,
   "metadata": {},
   "outputs": [],
   "source": [
    "s1s1 = pd.read_csv('C:/Users/giaco/Desktop/Esperimenti/PPO/Scenario 1/S1vsS1.csv')\n",
    "s1s2 = pd.read_csv('C:/Users/giaco/Desktop/Esperimenti/PPO/Scenario 1/S1vsS2.csv')\n",
    "s1s3 = pd.read_csv('C:/Users/giaco/Desktop/Esperimenti/PPO/Scenario 1/S1vsS3.csv')"
   ]
  },
  {
   "cell_type": "markdown",
   "metadata": {},
   "source": [
    "S1 vs S1"
   ]
  },
  {
   "cell_type": "code",
   "execution_count": 32,
   "metadata": {},
   "outputs": [
    {
     "name": "stdout",
     "output_type": "stream",
     "text": [
      "Ricompensa media per episodio: 520624.52713\n",
      "Media delle richieste rifiutate per episodio: 143.984\n",
      "Media del n di steps in congestione per episodio: 0.744\n",
      "Media della % di requests rifiutate per episodio: 1.4442387805423365\n"
     ]
    }
   ],
   "source": [
    "print(f\"Ricompensa media per episodio: {s1s1['Ricompensa Totale'].mean()}\")\n",
    "print(f\"Media delle richieste rifiutate per episodio: {s1s1['Richieste Rifiutate'].mean()}\")\n",
    "print(f\"Media del n di steps in congestione per episodio: {s1s1['Steps in Congestione'].mean()}\")\n",
    "print(f\"Media della % di requests rifiutate per episodio: {s1s1['Percentuale di Richieste Rifiutate'].mean()}\")\n"
   ]
  },
  {
   "cell_type": "markdown",
   "metadata": {},
   "source": [
    "S1 vs S2"
   ]
  },
  {
   "cell_type": "code",
   "execution_count": 31,
   "metadata": {},
   "outputs": [
    {
     "name": "stdout",
     "output_type": "stream",
     "text": [
      "Ricompensa media per episodio: -213008.1780352\n",
      "Media delle richieste rifiutate per episodio: 100.196\n",
      "Media del n di steps in congestione per episodio: 21.368\n",
      "Media della % di requests rifiutate per episodio: 1.0067647868877796\n"
     ]
    }
   ],
   "source": [
    "print(f\"Ricompensa media per episodio: {s1s2['Ricompensa Totale'].mean()}\")\n",
    "print(f\"Media delle richieste rifiutate per episodio: {s1s2['Richieste Rifiutate'].mean()}\")\n",
    "print(f\"Media del n di steps in congestione per episodio: {s1s2['Steps in Congestione'].mean()}\")\n",
    "print(f\"Media della % di requests rifiutate per episodio: {s1s2['Percentuale di Richieste Rifiutate'].mean()}\")"
   ]
  },
  {
   "cell_type": "markdown",
   "metadata": {},
   "source": [
    "S1 vs S3"
   ]
  },
  {
   "cell_type": "code",
   "execution_count": 30,
   "metadata": {},
   "outputs": [
    {
     "name": "stdout",
     "output_type": "stream",
     "text": [
      "Ricompensa media: 457052.4838556\n",
      "Media delle richieste rifiutate per episodio: 66.272\n",
      "Media del n di steps in congestione: 0.248\n",
      "Media della % di requests rifiutate: 0.6659729763610319\n"
     ]
    }
   ],
   "source": [
    "print(f\"Ricompensa media per episodio: {s1s3['Ricompensa Totale'].mean()}\")\n",
    "print(f\"Media delle richieste rifiutate per episodio: {s1s3['Richieste Rifiutate'].mean()}\")\n",
    "print(f\"Media del n di steps in congestione per episodio: {s1s3['Steps in Congestione'].mean()}\")\n",
    "print(f\"Media della % di requests rifiutate per episodio: {s1s3['Percentuale di Richieste Rifiutate'].mean()}\")"
   ]
  },
  {
   "cell_type": "markdown",
   "metadata": {},
   "source": [
    "## Scenario 2"
   ]
  },
  {
   "cell_type": "code",
   "execution_count": 10,
   "metadata": {},
   "outputs": [],
   "source": [
    "s2s1 = pd.read_csv('C:/Users/giaco/Desktop/Esperimenti/PPO/Scenario 2/S2vsS1.csv')\n",
    "s2s2 = pd.read_csv('C:/Users/giaco/Desktop/Esperimenti/PPO/Scenario 2/S2vsS2.csv')\n",
    "s2s3 = pd.read_csv('C:/Users/giaco/Desktop/Esperimenti/PPO/Scenario 2/S2vsS3.csv')"
   ]
  },
  {
   "cell_type": "markdown",
   "metadata": {},
   "source": [
    "S2 vs S1"
   ]
  },
  {
   "cell_type": "code",
   "execution_count": 33,
   "metadata": {},
   "outputs": [
    {
     "name": "stdout",
     "output_type": "stream",
     "text": [
      "Ricompensa media per episodio: 134187.003124\n",
      "Media delle richieste rifiutate per episodio: 721.028\n",
      "Media del n di steps in congestione per episodio: 1.508\n",
      "Media della % di requests rifiutate per episodio: 7.235937725717112\n"
     ]
    }
   ],
   "source": [
    "print(f\"Ricompensa media per episodio: {s2s1['Ricompensa Totale'].mean()}\")\n",
    "print(f\"Media delle richieste rifiutate per episodio: {s2s1['Richieste Rifiutate'].mean()}\")\n",
    "print(f\"Media del n di steps in congestione per episodio: {s2s1['Steps in Congestione'].mean()}\")\n",
    "print(f\"Media della % di requests rifiutate per episodio: {s2s1['Percentuale di Richieste Rifiutate'].mean()}\")"
   ]
  },
  {
   "cell_type": "markdown",
   "metadata": {},
   "source": [
    "S2 vs S2"
   ]
  },
  {
   "cell_type": "code",
   "execution_count": 34,
   "metadata": {},
   "outputs": [
    {
     "name": "stdout",
     "output_type": "stream",
     "text": [
      "Ricompensa media per episodio: 69793.72045800001\n",
      "Media delle richieste rifiutate per episodio: 947.072\n",
      "Media del n di steps in congestione per episodio: 5.86\n",
      "Media della % di requests rifiutate per episodio: 9.517120184868265\n"
     ]
    }
   ],
   "source": [
    "print(f\"Ricompensa media per episodio: {s2s2['Ricompensa Totale'].mean()}\")\n",
    "print(f\"Media delle richieste rifiutate per episodio: {s2s2['Richieste Rifiutate'].mean()}\")\n",
    "print(f\"Media del n di steps in congestione per episodio: {s2s2['Steps in Congestione'].mean()}\")\n",
    "print(f\"Media della % di requests rifiutate per episodio: {s2s2['Percentuale di Richieste Rifiutate'].mean()}\")"
   ]
  },
  {
   "cell_type": "markdown",
   "metadata": {},
   "source": [
    "S2 vs S3"
   ]
  },
  {
   "cell_type": "code",
   "execution_count": 35,
   "metadata": {},
   "outputs": [
    {
     "name": "stdout",
     "output_type": "stream",
     "text": [
      "Ricompensa media per episodio: 209843.29133039998\n",
      "Media delle richieste rifiutate per episodio: 664.056\n",
      "Media del n di steps in congestione per episodio: 0.116\n",
      "Media della % di requests rifiutate per episodio: 6.673163348772109\n"
     ]
    }
   ],
   "source": [
    "print(f\"Ricompensa media per episodio: {s2s3['Ricompensa Totale'].mean()}\")\n",
    "print(f\"Media delle richieste rifiutate per episodio: {s2s3['Richieste Rifiutate'].mean()}\")\n",
    "print(f\"Media del n di steps in congestione per episodio: {s2s3['Steps in Congestione'].mean()}\")\n",
    "print(f\"Media della % di requests rifiutate per episodio: {s2s3['Percentuale di Richieste Rifiutate'].mean()}\")"
   ]
  },
  {
   "cell_type": "markdown",
   "metadata": {},
   "source": [
    "## Scenario 3"
   ]
  },
  {
   "cell_type": "code",
   "execution_count": 37,
   "metadata": {},
   "outputs": [],
   "source": [
    "s3s1 = pd.read_csv('C:/Users/giaco/Desktop/Esperimenti/PPO/Scenario 3/S3vsS1.csv')\n",
    "s3s2 = pd.read_csv('C:/Users/giaco/Desktop/Esperimenti/PPO/Scenario 3/S3vsS2.csv')\n",
    "s3s3 = pd.read_csv('C:/Users/giaco/Desktop/Esperimenti/PPO/Scenario 3/S3vsS3.csv')"
   ]
  },
  {
   "cell_type": "markdown",
   "metadata": {},
   "source": [
    "S3 vs S1"
   ]
  },
  {
   "cell_type": "code",
   "execution_count": 38,
   "metadata": {},
   "outputs": [
    {
     "name": "stdout",
     "output_type": "stream",
     "text": [
      "Ricompensa media per episodio: 5546.477255199984\n",
      "Media delle richieste rifiutate per episodio: 71.604\n",
      "Media del n di steps in congestione per episodio: 11.268\n",
      "Media della % di requests rifiutate per episodio: 0.7183248494815453\n"
     ]
    }
   ],
   "source": [
    "print(f\"Ricompensa media per episodio: {s3s1['Ricompensa Totale'].mean()}\")\n",
    "print(f\"Media delle richieste rifiutate per episodio: {s3s1['Richieste Rifiutate'].mean()}\")\n",
    "print(f\"Media del n di steps in congestione per episodio: {s3s1['Steps in Congestione'].mean()}\")\n",
    "print(f\"Media della % di requests rifiutate per episodio: {s3s1['Percentuale di Richieste Rifiutate'].mean()}\")"
   ]
  },
  {
   "cell_type": "markdown",
   "metadata": {},
   "source": [
    "S3 vs S2"
   ]
  },
  {
   "cell_type": "code",
   "execution_count": 39,
   "metadata": {},
   "outputs": [
    {
     "name": "stdout",
     "output_type": "stream",
     "text": [
      "Ricompensa media per episodio: -48507.4572584\n",
      "Media delle richieste rifiutate per episodio: 70.968\n",
      "Media del n di steps in congestione per episodio: 14.568\n",
      "Media della % di requests rifiutate per episodio: 0.7132296814103156\n"
     ]
    }
   ],
   "source": [
    "print(f\"Ricompensa media per episodio: {s3s2['Ricompensa Totale'].mean()}\")\n",
    "print(f\"Media delle richieste rifiutate per episodio: {s3s2['Richieste Rifiutate'].mean()}\")\n",
    "print(f\"Media del n di steps in congestione per episodio: {s3s2['Steps in Congestione'].mean()}\")\n",
    "print(f\"Media della % di requests rifiutate per episodio: {s3s2['Percentuale di Richieste Rifiutate'].mean()}\")"
   ]
  },
  {
   "cell_type": "markdown",
   "metadata": {},
   "source": [
    "S3 vs S3"
   ]
  },
  {
   "cell_type": "code",
   "execution_count": 40,
   "metadata": {},
   "outputs": [
    {
     "name": "stdout",
     "output_type": "stream",
     "text": [
      "Ricompensa media per episodio: 340823.0130071999\n",
      "Media delle richieste rifiutate per episodio: 64.724\n",
      "Media del n di steps in congestione per episodio: 0.124\n",
      "Media della % di requests rifiutate per episodio: 0.6491033558182746\n"
     ]
    }
   ],
   "source": [
    "print(f\"Ricompensa media per episodio: {s3s3['Ricompensa Totale'].mean()}\")\n",
    "print(f\"Media delle richieste rifiutate per episodio: {s3s3['Richieste Rifiutate'].mean()}\")\n",
    "print(f\"Media del n di steps in congestione per episodio: {s3s3['Steps in Congestione'].mean()}\")\n",
    "print(f\"Media della % di requests rifiutate per episodio: {s3s3['Percentuale di Richieste Rifiutate'].mean()}\")"
   ]
  }
 ],
 "metadata": {
  "kernelspec": {
   "display_name": "Python 3",
   "language": "python",
   "name": "python3"
  },
  "language_info": {
   "codemirror_mode": {
    "name": "ipython",
    "version": 3
   },
   "file_extension": ".py",
   "mimetype": "text/x-python",
   "name": "python",
   "nbconvert_exporter": "python",
   "pygments_lexer": "ipython3",
   "version": "3.8.10"
  },
  "orig_nbformat": 4
 },
 "nbformat": 4,
 "nbformat_minor": 2
}
