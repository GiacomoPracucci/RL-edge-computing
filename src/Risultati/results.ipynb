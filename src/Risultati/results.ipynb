{
 "cells": [
  {
   "cell_type": "code",
   "execution_count": 2,
   "metadata": {},
   "outputs": [],
   "source": [
    "import pandas as pd\n",
    "import matplotlib.pyplot as plt"
   ]
  },
  {
   "cell_type": "markdown",
   "metadata": {},
   "source": [
    "## Scenario 1"
   ]
  },
  {
   "cell_type": "code",
   "execution_count": 38,
   "metadata": {},
   "outputs": [],
   "source": [
    "s1s1 = pd.read_csv('C:/Users/giaco/Desktop/Esperimenti/PPO/Scenario 1/S1vsS1.csv')\n",
    "s1s1['Ricompensa Totale'] = s1s1['Ricompensa Totale'].astype(int)\n",
    "s1s1 = s1s1[s1s1['Ricompensa Totale'] < 30000]\n",
    "s1s1['Percentuale di Richieste Rifiutate'] = s1s1['Percentuale di Richieste Rifiutate'].apply(lambda x: round(x, 2))\n",
    "s1s2 = pd.read_csv('C:/Users/giaco/Desktop/Esperimenti/PPO/Scenario 1/S1vsS2.csv')\n",
    "s1s2['Ricompensa Totale'] = s1s2['Ricompensa Totale'].astype(int)\n",
    "s1s2 = s1s2[s1s2['Ricompensa Totale'] < 30000]\n",
    "s1s2 = s1s2[s1s2['Ricompensa Totale'] > -30000]\n",
    "s1s2['Percentuale di Richieste Rifiutate'] = s1s2['Percentuale di Richieste Rifiutate'].apply(lambda x: round(x, 2))\n",
    "s1s3 = pd.read_csv('C:/Users/giaco/Desktop/Esperimenti/PPO/Scenario 1/S1vsS3.csv')\n",
    "s1s3['Ricompensa Totale'] = s1s3['Ricompensa Totale'].astype(int)\n",
    "s1s3['Percentuale di Richieste Rifiutate'] = s1s3['Percentuale di Richieste Rifiutate'].apply(lambda x: round(x, 2))\n",
    "s1s3 = s1s3[s1s3['Ricompensa Totale'] < 30000]"
   ]
  },
  {
   "cell_type": "markdown",
   "metadata": {},
   "source": [
    "S1 vs S1"
   ]
  },
  {
   "cell_type": "code",
   "execution_count": 27,
   "metadata": {},
   "outputs": [
    {
     "name": "stdout",
     "output_type": "stream",
     "text": [
      "Ricompensa media per episodio: 15151.177685950413\n",
      "Media delle richieste rifiutate per episodio: 144.59504132231405\n",
      "Media del n di steps in congestione per episodio: 0.7479338842975206\n",
      "Media della % di requests rifiutate per episodio: 1.4501652892561985\n"
     ]
    }
   ],
   "source": [
    "print(f\"Ricompensa media per episodio: {s1s1['Ricompensa Totale'].mean()}\")\n",
    "print(f\"Media delle richieste rifiutate per episodio: {s1s1['Richieste Rifiutate'].mean()}\")\n",
    "print(f\"Media del n di steps in congestione per episodio: {s1s1['Steps in Congestione'].mean()}\")\n",
    "print(f\"Media della % di requests rifiutate per episodio: {s1s1['Percentuale di Richieste Rifiutate'].mean()}\")\n"
   ]
  },
  {
   "cell_type": "markdown",
   "metadata": {},
   "source": [
    "S1 vs S2"
   ]
  },
  {
   "cell_type": "code",
   "execution_count": 39,
   "metadata": {},
   "outputs": [
    {
     "name": "stdout",
     "output_type": "stream",
     "text": [
      "Ricompensa media per episodio: -7833.25\n",
      "Media delle richieste rifiutate per episodio: 99.18032786885246\n",
      "Media del n di steps in congestione per episodio: 21.360655737704917\n",
      "Media della % di requests rifiutate per episodio: 0.9961885245901638\n"
     ]
    }
   ],
   "source": [
    "print(f\"Ricompensa media per episodio: {s1s2['Ricompensa Totale'].mean()}\")\n",
    "print(f\"Media delle richieste rifiutate per episodio: {s1s2['Richieste Rifiutate'].mean()}\")\n",
    "print(f\"Media del n di steps in congestione per episodio: {s1s2['Steps in Congestione'].mean()}\")\n",
    "print(f\"Media della % di requests rifiutate per episodio: {s1s2['Percentuale di Richieste Rifiutate'].mean()}\")"
   ]
  },
  {
   "cell_type": "markdown",
   "metadata": {},
   "source": [
    "S1 vs S3"
   ]
  },
  {
   "cell_type": "code",
   "execution_count": 28,
   "metadata": {},
   "outputs": [
    {
     "name": "stdout",
     "output_type": "stream",
     "text": [
      "Ricompensa media per episodio: 15481.432098765432\n",
      "Media delle richieste rifiutate per episodio: 67.08641975308642\n",
      "Media del n di steps in congestione per episodio: 0.24691358024691357\n",
      "Media della % di requests rifiutate per episodio: 0.672962962962963\n"
     ]
    }
   ],
   "source": [
    "print(f\"Ricompensa media per episodio: {s1s3['Ricompensa Totale'].mean()}\")\n",
    "print(f\"Media delle richieste rifiutate per episodio: {s1s3['Richieste Rifiutate'].mean()}\")\n",
    "print(f\"Media del n di steps in congestione per episodio: {s1s3['Steps in Congestione'].mean()}\")\n",
    "print(f\"Media della % di requests rifiutate per episodio: {s1s3['Percentuale di Richieste Rifiutate'].mean()}\")"
   ]
  },
  {
   "cell_type": "markdown",
   "metadata": {},
   "source": [
    "## Scenario 2"
   ]
  },
  {
   "cell_type": "code",
   "execution_count": 29,
   "metadata": {},
   "outputs": [],
   "source": [
    "s2s1 = pd.read_csv('C:/Users/giaco/Desktop/Esperimenti/PPO/Scenario 2/S2vsS1.csv')\n",
    "s2s1['Ricompensa Totale'] = s2s1['Ricompensa Totale'].astype(int)\n",
    "s2s1 = s2s1[s2s1['Ricompensa Totale'] < 30000]\n",
    "s2s1['Percentuale di Richieste Rifiutate'] = s2s1['Percentuale di Richieste Rifiutate'].apply(lambda x: round(x, 2))\n",
    "s2s2 = pd.read_csv('C:/Users/giaco/Desktop/Esperimenti/PPO/Scenario 2/S2vsS2.csv')\n",
    "s2s2['Ricompensa Totale'] = s2s2['Ricompensa Totale'].astype(int)\n",
    "s2s2 = s2s2[s2s2['Ricompensa Totale'] < 30000]\n",
    "s2s2['Percentuale di Richieste Rifiutate'] = s2s2['Percentuale di Richieste Rifiutate'].apply(lambda x: round(x, 2))\n",
    "s2s3 = pd.read_csv('C:/Users/giaco/Desktop/Esperimenti/PPO/Scenario 2/S2vsS3.csv')\n",
    "s2s3['Ricompensa Totale'] = s2s3['Ricompensa Totale'].astype(int)\n",
    "s2s3 = s2s3[s2s3['Ricompensa Totale'] < 30000]\n",
    "s2s3['Percentuale di Richieste Rifiutate'] = s2s3['Percentuale di Richieste Rifiutate'].apply(lambda x: round(x, 2))"
   ]
  },
  {
   "cell_type": "markdown",
   "metadata": {},
   "source": [
    "S2 vs S1"
   ]
  },
  {
   "cell_type": "code",
   "execution_count": 30,
   "metadata": {},
   "outputs": [
    {
     "name": "stdout",
     "output_type": "stream",
     "text": [
      "Ricompensa media per episodio: 10102.267206477733\n",
      "Media delle richieste rifiutate per episodio: 713.0769230769231\n",
      "Media del n di steps in congestione per episodio: 1.5222672064777327\n",
      "Media della % di requests rifiutate per episodio: 7.155991902834007\n"
     ]
    }
   ],
   "source": [
    "print(f\"Ricompensa media per episodio: {s2s1['Ricompensa Totale'].mean()}\")\n",
    "print(f\"Media delle richieste rifiutate per episodio: {s2s1['Richieste Rifiutate'].mean()}\")\n",
    "print(f\"Media del n di steps in congestione per episodio: {s2s1['Steps in Congestione'].mean()}\")\n",
    "print(f\"Media della % di requests rifiutate per episodio: {s2s1['Percentuale di Richieste Rifiutate'].mean()}\")"
   ]
  },
  {
   "cell_type": "markdown",
   "metadata": {},
   "source": [
    "S2 vs S2"
   ]
  },
  {
   "cell_type": "code",
   "execution_count": 31,
   "metadata": {},
   "outputs": [
    {
     "name": "stdout",
     "output_type": "stream",
     "text": [
      "Ricompensa media per episodio: 6417.19028340081\n",
      "Media delle richieste rifiutate per episodio: 938.3805668016195\n",
      "Media del n di steps in congestione per episodio: 5.854251012145749\n",
      "Media della % di requests rifiutate per episodio: 9.430566801619433\n"
     ]
    }
   ],
   "source": [
    "print(f\"Ricompensa media per episodio: {s2s2['Ricompensa Totale'].mean()}\")\n",
    "print(f\"Media delle richieste rifiutate per episodio: {s2s2['Richieste Rifiutate'].mean()}\")\n",
    "print(f\"Media del n di steps in congestione per episodio: {s2s2['Steps in Congestione'].mean()}\")\n",
    "print(f\"Media della % di requests rifiutate per episodio: {s2s2['Percentuale di Richieste Rifiutate'].mean()}\")"
   ]
  },
  {
   "cell_type": "markdown",
   "metadata": {},
   "source": [
    "S2 vs S3"
   ]
  },
  {
   "cell_type": "code",
   "execution_count": 32,
   "metadata": {},
   "outputs": [
    {
     "name": "stdout",
     "output_type": "stream",
     "text": [
      "Ricompensa media per episodio: 13215.065040650406\n",
      "Media delle richieste rifiutate per episodio: 661.670731707317\n",
      "Media del n di steps in congestione per episodio: 0.11788617886178862\n",
      "Media della % di requests rifiutate per episodio: 6.649390243902438\n"
     ]
    }
   ],
   "source": [
    "print(f\"Ricompensa media per episodio: {s2s3['Ricompensa Totale'].mean()}\")\n",
    "print(f\"Media delle richieste rifiutate per episodio: {s2s3['Richieste Rifiutate'].mean()}\")\n",
    "print(f\"Media del n di steps in congestione per episodio: {s2s3['Steps in Congestione'].mean()}\")\n",
    "print(f\"Media della % di requests rifiutate per episodio: {s2s3['Percentuale di Richieste Rifiutate'].mean()}\")"
   ]
  },
  {
   "cell_type": "markdown",
   "metadata": {},
   "source": [
    "## Scenario 3"
   ]
  },
  {
   "cell_type": "code",
   "execution_count": 47,
   "metadata": {},
   "outputs": [],
   "source": [
    "s3s1 = pd.read_csv('C:/Users/giaco/Desktop/Esperimenti/PPO/Scenario 3/S3vsS1.csv')\n",
    "s3s1['Ricompensa Totale'] = s3s1['Ricompensa Totale'].astype(int)\n",
    "s3s1 = s3s1[s3s1['Ricompensa Totale'] < 30000]\n",
    "s3s1 = s3s1[s3s1['Ricompensa Totale'] > -30000]\n",
    "s3s1['Percentuale di Richieste Rifiutate'] = s3s1['Percentuale di Richieste Rifiutate'].apply(lambda x: round(x, 2))\n",
    "s3s2 = pd.read_csv('C:/Users/giaco/Desktop/Esperimenti/PPO/Scenario 3/S3vsS2.csv')\n",
    "s3s2['Ricompensa Totale'] = s3s2['Ricompensa Totale'].astype(int)\n",
    "s3s2 = s3s2[s3s2['Ricompensa Totale'] < 30000]\n",
    "s3s2 = s3s2[s3s2['Ricompensa Totale'] > -30000]\n",
    "s3s2['Percentuale di Richieste Rifiutate'] = s3s2['Percentuale di Richieste Rifiutate'].apply(lambda x: round(x, 2))\n",
    "s3s3 = pd.read_csv('C:/Users/giaco/Desktop/Esperimenti/PPO/Scenario 3/S3vsS3.csv')\n",
    "s3s3['Ricompensa Totale'] = s3s3['Ricompensa Totale'].astype(int)\n",
    "s3s3 = s3s3[s3s3['Ricompensa Totale'] < 30000]\n",
    "s3s3['Percentuale di Richieste Rifiutate'] = s3s3['Percentuale di Richieste Rifiutate'].apply(lambda x: round(x, 2))"
   ]
  },
  {
   "cell_type": "markdown",
   "metadata": {},
   "source": [
    "S3 vs S1"
   ]
  },
  {
   "cell_type": "code",
   "execution_count": 48,
   "metadata": {},
   "outputs": [
    {
     "name": "stdout",
     "output_type": "stream",
     "text": [
      "Ricompensa media per episodio: 1614.0823045267489\n",
      "Media delle richieste rifiutate per episodio: 71.21810699588477\n",
      "Media del n di steps in congestione per episodio: 11.246913580246913\n",
      "Media della % di requests rifiutate per episodio: 0.7144855967078192\n"
     ]
    }
   ],
   "source": [
    "print(f\"Ricompensa media per episodio: {s3s1['Ricompensa Totale'].mean()}\")\n",
    "print(f\"Media delle richieste rifiutate per episodio: {s3s1['Richieste Rifiutate'].mean()}\")\n",
    "print(f\"Media del n di steps in congestione per episodio: {s3s1['Steps in Congestione'].mean()}\")\n",
    "print(f\"Media della % di requests rifiutate per episodio: {s3s1['Percentuale di Richieste Rifiutate'].mean()}\")"
   ]
  },
  {
   "cell_type": "markdown",
   "metadata": {},
   "source": [
    "S3 vs S2"
   ]
  },
  {
   "cell_type": "code",
   "execution_count": 41,
   "metadata": {},
   "outputs": [
    {
     "name": "stdout",
     "output_type": "stream",
     "text": [
      "Ricompensa media per episodio: -869.698347107438\n",
      "Media delle richieste rifiutate per episodio: 71.24793388429752\n",
      "Media del n di steps in congestione per episodio: 14.557851239669422\n",
      "Media della % di requests rifiutate per episodio: 0.7151652892561983\n"
     ]
    }
   ],
   "source": [
    "print(f\"Ricompensa media per episodio: {s3s2['Ricompensa Totale'].mean()}\")\n",
    "print(f\"Media delle richieste rifiutate per episodio: {s3s2['Richieste Rifiutate'].mean()}\")\n",
    "print(f\"Media del n di steps in congestione per episodio: {s3s2['Steps in Congestione'].mean()}\")\n",
    "print(f\"Media della % di requests rifiutate per episodio: {s3s2['Percentuale di Richieste Rifiutate'].mean()}\")"
   ]
  },
  {
   "cell_type": "markdown",
   "metadata": {},
   "source": [
    "S3 vs S3"
   ]
  },
  {
   "cell_type": "code",
   "execution_count": 36,
   "metadata": {},
   "outputs": [
    {
     "name": "stdout",
     "output_type": "stream",
     "text": [
      "Ricompensa media per episodio: 16520.82857142857\n",
      "Media delle richieste rifiutate per episodio: 64.53877551020408\n",
      "Media del n di steps in congestione per episodio: 0.12244897959183673\n",
      "Media della % di requests rifiutate per episodio: 0.6462040816326531\n"
     ]
    }
   ],
   "source": [
    "print(f\"Ricompensa media per episodio: {s3s3['Ricompensa Totale'].mean()}\")\n",
    "print(f\"Media delle richieste rifiutate per episodio: {s3s3['Richieste Rifiutate'].mean()}\")\n",
    "print(f\"Media del n di steps in congestione per episodio: {s3s3['Steps in Congestione'].mean()}\")\n",
    "print(f\"Media della % di requests rifiutate per episodio: {s3s3['Percentuale di Richieste Rifiutate'].mean()}\")"
   ]
  }
 ],
 "metadata": {
  "kernelspec": {
   "display_name": "Python 3",
   "language": "python",
   "name": "python3"
  },
  "language_info": {
   "codemirror_mode": {
    "name": "ipython",
    "version": 3
   },
   "file_extension": ".py",
   "mimetype": "text/x-python",
   "name": "python",
   "nbconvert_exporter": "python",
   "pygments_lexer": "ipython3",
   "version": "3.8.10"
  },
  "orig_nbformat": 4
 },
 "nbformat": 4,
 "nbformat_minor": 2
}
